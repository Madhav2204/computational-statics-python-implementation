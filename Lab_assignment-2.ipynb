{
 "cells": [
  {
   "cell_type": "markdown",
   "metadata": {},
   "source": [
    "# Write a Python program to convert month name to a number of days. Expected Output: List of months: January, February, March, April, May, June, July, August, September, October, November, December. Input the name of Month: February No. of days: 28/29 days"
   ]
  },
  {
   "cell_type": "code",
   "execution_count": 2,
   "metadata": {},
   "outputs": [
    {
     "name": "stdout",
     "output_type": "stream",
     "text": [
      "April\n"
     ]
    },
    {
     "data": {
      "text/plain": [
       "'30'"
      ]
     },
     "execution_count": 2,
     "metadata": {},
     "output_type": "execute_result"
    }
   ],
   "source": [
    "Month_name={'January':'31','February':'28/29','March':'31','April':'30','May':'31','June':'30','July':'31','August':'31','September':'30','October':'31','November':'30','December':'31'}\n",
    "Month_name.get(input())"
   ]
  }
 ],
 "metadata": {
  "kernelspec": {
   "display_name": "Python 3",
   "language": "python",
   "name": "python3"
  },
  "language_info": {
   "codemirror_mode": {
    "name": "ipython",
    "version": 3
   },
   "file_extension": ".py",
   "mimetype": "text/x-python",
   "name": "python",
   "nbconvert_exporter": "python",
   "pygments_lexer": "ipython3",
   "version": "3.8.3"
  }
 },
 "nbformat": 4,
 "nbformat_minor": 4
}
