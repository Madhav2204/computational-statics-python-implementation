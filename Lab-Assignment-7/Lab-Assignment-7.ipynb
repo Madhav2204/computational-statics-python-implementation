{
 "cells": [
  {
   "cell_type": "markdown",
   "metadata": {},
   "source": [
    "# Lab Assignment 7:"
   ]
  },
  {
   "cell_type": "markdown",
   "metadata": {},
   "source": [
    "# Write a python program for Multiple Linear Regression and Check weather multicollinearity exits between the data or not."
   ]
  },
  {
   "cell_type": "code",
   "execution_count": 5,
   "metadata": {},
   "outputs": [],
   "source": [
    "import numpy as np\n",
    "import matplotlib.pyplot as plt"
   ]
  },
  {
   "cell_type": "code",
   "execution_count": 116,
   "metadata": {},
   "outputs": [
    {
     "name": "stdout",
     "output_type": "stream",
     "text": [
      "[[540.     0.     0.   ... 676.    28.    79.99]\n",
      " [540.     0.     0.   ... 676.    28.    61.89]\n",
      " [332.5  142.5    0.   ... 594.   270.    40.27]\n",
      " ...\n",
      " [148.5  139.4  108.6  ... 780.    28.    23.7 ]\n",
      " [159.1  186.7    0.   ... 788.9   28.    32.77]\n",
      " [260.9  100.5   78.3  ... 761.5   28.    32.4 ]]\n"
     ]
    }
   ],
   "source": [
    "# loading our csv file using numpy and printing\n",
    "data = np.loadtxt('Concrete_Data.csv',delimiter=',',skiprows=1)\n",
    "print(data)"
   ]
  },
  {
   "cell_type": "code",
   "execution_count": 11,
   "metadata": {},
   "outputs": [
    {
     "name": "stdout",
     "output_type": "stream",
     "text": [
      "[[540.   540.   332.5  ... 148.5  159.1  260.9 ]\n",
      " [  0.     0.   142.5  ... 139.4  186.7  100.5 ]\n",
      " [  0.     0.     0.   ... 108.6    0.    78.3 ]\n",
      " ...\n",
      " [676.   676.   594.   ... 780.   788.9  761.5 ]\n",
      " [ 28.    28.   270.   ...  28.    28.    28.  ]\n",
      " [ 79.99  61.89  40.27 ...  23.7   32.77  32.4 ]]\n"
     ]
    }
   ],
   "source": [
    "# To access the columns of data transposing it \n",
    "newdata = data.T\n",
    "print(newdata)"
   ]
  },
  {
   "cell_type": "code",
   "execution_count": 13,
   "metadata": {},
   "outputs": [
    {
     "name": "stdout",
     "output_type": "stream",
     "text": [
      "[540.  540.  332.5 ... 148.5 159.1 260.9]\n"
     ]
    }
   ],
   "source": [
    "# our Y attribute is cement \n",
    "Y = newdata[0]\n",
    "print(Y)"
   ]
  },
  {
   "cell_type": "code",
   "execution_count": 14,
   "metadata": {},
   "outputs": [
    {
     "name": "stdout",
     "output_type": "stream",
     "text": [
      "[162.  162.  228.  ... 192.7 175.6 200.6]\n"
     ]
    }
   ],
   "source": [
    "# our X1 attribute water \n",
    "X_1 = newdata[3]\n",
    "print(X_1)"
   ]
  },
  {
   "cell_type": "code",
   "execution_count": 15,
   "metadata": {},
   "outputs": [
    {
     "name": "stdout",
     "output_type": "stream",
     "text": [
      "[79.99 61.89 40.27 ... 23.7  32.77 32.4 ]\n"
     ]
    }
   ],
   "source": [
    "# our X2 attribute CMS\n",
    "X_2 = newdata[8]\n",
    "print(X_2)"
   ]
  },
  {
   "cell_type": "code",
   "execution_count": 21,
   "metadata": {},
   "outputs": [
    {
     "name": "stdout",
     "output_type": "stream",
     "text": [
      "[[162. ]\n",
      " [162. ]\n",
      " [228. ]\n",
      " ...\n",
      " [192.7]\n",
      " [175.6]\n",
      " [200.6]]\n",
      "\n",
      "[[79.99]\n",
      " [61.89]\n",
      " [40.27]\n",
      " ...\n",
      " [23.7 ]\n",
      " [32.77]\n",
      " [32.4 ]]\n",
      "\n",
      "[[540. ]\n",
      " [540. ]\n",
      " [332.5]\n",
      " ...\n",
      " [148.5]\n",
      " [159.1]\n",
      " [260.9]]\n",
      "\n",
      "[[1.]\n",
      " [1.]\n",
      " [1.]\n",
      " ...\n",
      " [1.]\n",
      " [1.]\n",
      " [1.]]\n"
     ]
    }
   ],
   "source": [
    "#  y = b0 + x1 * b1 + x2 * b2 \n",
    "# changing our x1 and x2 attributes in 1-d array for manipulation\n",
    "n = len(X_1)\n",
    "x_1 = np.array(X_1).reshape(n, 1)\n",
    "print(x_1)\n",
    "print()\n",
    "x_2 = np.array(X_2).reshape(n, 1)\n",
    "print(x_2)\n",
    "print()\n",
    "Y = np.array(Y).reshape(n, 1)\n",
    "print(Y)\n",
    "print()\n",
    "x_0 = np.ones([n, 1])\n",
    "print(x_0)"
   ]
  },
  {
   "cell_type": "code",
   "execution_count": 31,
   "metadata": {},
   "outputs": [
    {
     "name": "stdout",
     "output_type": "stream",
     "text": [
      "[[  1.   162.    79.99]\n",
      " [  1.   162.    61.89]\n",
      " [  1.   228.    40.27]\n",
      " ...\n",
      " [  1.   192.7   23.7 ]\n",
      " [  1.   175.6   32.77]\n",
      " [  1.   200.6   32.4 ]]\n"
     ]
    }
   ],
   "source": [
    "# making a single X matrix from two 1-d array to use it in beta = (((X.T)X)^-1)(X.T)Y\n",
    "X = np.hstack((x_0, x_1, x_2)) # hstackis used concatanate multidimensional arrays \n",
    "print(X)"
   ]
  },
  {
   "cell_type": "raw",
   "metadata": {},
   "source": [
    "we will now try to find whether multicollinearity is there in our data-set or not so that we can ignore or remove inadequate attribute and then we will go to fit our model using  multiple linear regression\n",
    "\n",
    "-----------------------NOTE-------------------------\n",
    "first we will examine through scatter plot and then\n",
    "second though scatter matrix"
   ]
  },
  {
   "cell_type": "code",
   "execution_count": 37,
   "metadata": {},
   "outputs": [
    {
     "data": {
      "image/png": "[encoded data removed]",
      "text/plain": [
       "<Figure size 432x288 with 1 Axes>"
      ]
     },
     "metadata": {
      "needs_background": "light"
     },
     "output_type": "display_data"
    }
   ],
   "source": [
    "# trying to visualise X1 and Y using scattter plot \n",
    "plt.xlabel('Water',color ='red')\n",
    "plt.ylabel('cement',color ='red')\n",
    "plt.scatter(X_1, Y)\n",
    "plt.show()"
   ]
  },
  {
   "cell_type": "code",
   "execution_count": 42,
   "metadata": {},
   "outputs": [
    {
     "data": {
      "image/png": "[encoded data removed]",
      "text/plain": [
       "<Figure size 432x288 with 1 Axes>"
      ]
     },
     "metadata": {
      "needs_background": "light"
     },
     "output_type": "display_data"
    }
   ],
   "source": [
    "# trying to visualise X2 and Y using scattter plot \n",
    "plt.xlabel('CMS',color ='red')\n",
    "plt.ylabel('cement',color ='red')\n",
    "plt.scatter(X_2, Y)\n",
    "plt.show()"
   ]
  },
  {
   "cell_type": "code",
   "execution_count": 49,
   "metadata": {},
   "outputs": [
    {
     "data": {
      "image/png": "[encoded data removed]",
      "text/plain": [
       "<Figure size 432x288 with 1 Axes>"
      ]
     },
     "metadata": {
      "needs_background": "light"
     },
     "output_type": "display_data"
    }
   ],
   "source": [
    "# trying to visualise X1 and X2 using scattter plot  and predicting the correlation between them \n",
    "plt.xlabel('Water',color ='red')\n",
    "plt.ylabel('CMS',color ='red')\n",
    "plt.scatter(X_1, X_2)\n",
    "plt.show()"
   ]
  },
  {
   "cell_type": "raw",
   "metadata": {},
   "source": [
    "From above scatter plot between X1 and X2 , we can conclude that they are not correlated and hence no multicollinearity exists between them "
   ]
  },
  {
   "cell_type": "code",
   "execution_count": 54,
   "metadata": {},
   "outputs": [
    {
     "name": "stdout",
     "output_type": "stream",
     "text": [
      "[[  1.     1.     1.   ...   1.     1.     1.  ]\n",
      " [162.   162.   228.   ... 192.7  175.6  200.6 ]\n",
      " [ 79.99  61.89  40.27 ...  23.7   32.77  32.4 ]]\n"
     ]
    }
   ],
   "source": [
    "# now we have X matrix , Y matrix we need to find Beta matrix \n",
    "# converting X to X transpose\n",
    "X_transpose = X.T\n",
    "print(X_transpose)"
   ]
  },
  {
   "cell_type": "code",
   "execution_count": 59,
   "metadata": {},
   "outputs": [
    {
     "name": "stdout",
     "output_type": "stream",
     "text": [
      "[[1.03000000e+03 1.87014300e+05 3.68925000e+04]\n",
      " [1.87014300e+05 3.44249048e+07 6.59215131e+06]\n",
      " [3.68925000e+04 6.59215131e+06 1.60858932e+06]]\n"
     ]
    }
   ],
   "source": [
    "# calculating X.T * X\n",
    "X_transpose_X = X_transpose.dot(X)\n",
    "print(X_transpose_X)"
   ]
  },
  {
   "cell_type": "raw",
   "metadata": {},
   "source": [
    "--------------------------  In general  --------------------------\n",
    "we can go for and find rij value in (X.T * X) matrix where i!=j and examine wheather rij --> unity so multicollinearity exists in our model else rij --> 0 no multicollinearity exits in our data and we can continue to fit our model\n",
    "if it is \n",
    "----------------------------- or ---------------------------------\n",
    "If we find any values in which the absolute value of their correlation is >=0.8, the multicollinearity\n",
    "assumption is being broken.\n",
    "\n",
    "-------------------------- our model -----------------------------\n",
    "Let's talk about our model , we can examine that in matrix (X.T * X) all rij values are tending toward 0 and a far apart from unity . for example, r12 = 1.87014300e+05 ---> 0   and r13 =-3.68925000e+04 --> 0 also r23 = 6.59215131e+06 --> 0\n",
    "we can conclude our model is free from multicollinearty and we can proceed with further manipulation in our dataset."
   ]
  },
  {
   "cell_type": "code",
   "execution_count": 65,
   "metadata": {},
   "outputs": [
    {
     "name": "stdout",
     "output_type": "stream",
     "text": [
      "[[ 9.37404156e-02 -4.53231247e-04 -2.92522970e-04]\n",
      " [-4.53231247e-04  2.32631461e-06  8.61261398e-07]\n",
      " [-2.92522970e-04  8.61261398e-07  3.80105608e-06]]\n"
     ]
    }
   ],
   "source": [
    "# inverse of ((X.T)X)\n",
    "inverse_XTX = np.linalg.inv(X_transpose_X)\n",
    "print(inverse_XTX)"
   ]
  },
  {
   "cell_type": "code",
   "execution_count": 69,
   "metadata": {},
   "outputs": [
    {
     "name": "stdout",
     "output_type": "stream",
     "text": [
      "[[  289602.9       ]\n",
      " [52395057.95000003]\n",
      " [11267333.595     ]]\n"
     ]
    }
   ],
   "source": [
    "# calculating (X.T)Y\n",
    "X_transpose_Y = (X_transpose).dot(Y)\n",
    "print(X_transpose_Y)"
   ]
  },
  {
   "cell_type": "code",
   "execution_count": 74,
   "metadata": {},
   "outputs": [
    {
     "name": "stdout",
     "output_type": "stream",
     "text": [
      "our beta matrix is : \n",
      " [[104.46486615]\n",
      " [  0.33442476]\n",
      " [  3.23810735]]\n"
     ]
    }
   ],
   "source": [
    "# calculating for beta\n",
    "betas = inverse_XTX.dot(X_transpose_Y)\n",
    "print(\"our beta matrix is : \\n\", betas)"
   ]
  },
  {
   "cell_type": "code",
   "execution_count": 78,
   "metadata": {},
   "outputs": [
    {
     "name": "stdout",
     "output_type": "stream",
     "text": [
      "beta0 =  [104.46486615] \n",
      "beta1 =  [0.33442476] \n",
      "beta2 =  [3.23810735]\n"
     ]
    }
   ],
   "source": [
    "beta_0 = betas[0]\n",
    "beta_1 = betas[1]\n",
    "beta_2 = betas[2]\n",
    "print(\"beta0 = \", beta_0, \"\\nbeta1 = \", beta_1, \"\\nbeta2 = \", beta_2)"
   ]
  },
  {
   "cell_type": "code",
   "execution_count": 82,
   "metadata": {},
   "outputs": [
    {
     "name": "stdout",
     "output_type": "stream",
     "text": [
      "Y = [104.46486615] + [0.33442476] X1 + [3.23810735] X2\n"
     ]
    }
   ],
   "source": [
    "# fitting value \n",
    "print('Y =', beta_0, '+', beta_1, 'X1','+', beta_2, 'X2')"
   ]
  },
  {
   "cell_type": "code",
   "execution_count": 86,
   "metadata": {},
   "outputs": [
    {
     "name": "stdout",
     "output_type": "stream",
     "text": [
      "[[162.    79.99]\n",
      " [162.    61.89]\n",
      " [228.    40.27]\n",
      " ...\n",
      " [192.7   23.7 ]\n",
      " [175.6   32.77]\n",
      " [200.6   32.4 ]]\n"
     ]
    }
   ],
   "source": [
    "# manipulating with X\n",
    "X_new = np.hstack((x_1, x_2))  \n",
    "print(X_new)"
   ]
  },
  {
   "cell_type": "code",
   "execution_count": 90,
   "metadata": {},
   "outputs": [
    {
     "name": "stdout",
     "output_type": "stream",
     "text": [
      "[[417.65788447]\n",
      " [359.04814135]\n",
      " [311.11229447]\n",
      " ...\n",
      " [245.6516616 ]\n",
      " [269.30263191]\n",
      " [276.46515118]]\n"
     ]
    }
   ],
   "source": [
    "# findind Y-pred\n",
    "y_pred = np.array([])\n",
    "y_pred1 = 0\n",
    "for i in range(X.shape[0]):\n",
    "    for j in range(X.shape[1]):\n",
    "        y_pred1 =y_pred1 + (betas[j] * X[i][j])\n",
    "    y_pred = np.append(y_pred,y_pred1, axis = 0)\n",
    "    y_pred1 = 0\n",
    "\n",
    "y_pred = y_pred.reshape(n,1)\n",
    "print(y_pred)"
   ]
  },
  {
   "cell_type": "code",
   "execution_count": 95,
   "metadata": {},
   "outputs": [
    {
     "name": "stdout",
     "output_type": "stream",
     "text": [
      "R-square value is :  [0.25211449]\n"
     ]
    }
   ],
   "source": [
    "# calculting R-square value\n",
    "numerator = 0.0\n",
    "denomenator = 0.0\n",
    "\n",
    "y_mean = np.mean(Y)\n",
    "\n",
    "for i in range(len(Y)):\n",
    "    numerator = numerator + ((y_pred[i] - y_mean)**2)\n",
    "    denomenator = denomenator + ((Y[i] - y_mean)**2)\n",
    "\n",
    "R_square = numerator/denomenator\n",
    "print('R-square value is : ', R_square)  "
   ]
  },
  {
   "cell_type": "code",
   "execution_count": 98,
   "metadata": {},
   "outputs": [
    {
     "name": "stdout",
     "output_type": "stream",
     "text": [
      "SS_regression : [2833339.79186592] \n",
      "SS_residual: [8404966.25443505] \n",
      "SS_total : [11238306.04630097]\n"
     ]
    }
   ],
   "source": [
    "#anova attributes\n",
    "ss_regression = 0.0\n",
    "ss_residual = 0.0\n",
    "\n",
    "for i in range(X.shape[0]):\n",
    "#     Y_pred = beta1*X[i] + beta0\n",
    "    ss_regression += (y_pred[i]-y_mean)**2\n",
    "    ss_residual += (Y[i]-y_pred[i])**2\n",
    "\n",
    "print(\"SS_regression :\", ss_regression, \"\\nSS_residual:\", ss_residual,\"\\nSS_total :\", ss_regression+ss_residual)"
   ]
  },
  {
   "cell_type": "code",
   "execution_count": 102,
   "metadata": {},
   "outputs": [
    {
     "name": "stdout",
     "output_type": "stream",
     "text": [
      "MS Regression : [1416669.89593296] \n",
      "MS Residual : [8183.99830033]\n"
     ]
    }
   ],
   "source": [
    "n = X.shape[0]\n",
    "\n",
    "ms_regression = (ss_regression/2)\n",
    "ms_residual = (ss_residual/(n-3))\n",
    "print(\"MS Regression :\", ms_regression, \"\\nMS Residual :\", ms_residual)"
   ]
  },
  {
   "cell_type": "code",
   "execution_count": 106,
   "metadata": {},
   "outputs": [
    {
     "name": "stdout",
     "output_type": "stream",
     "text": [
      "F-stats for data :  [173.10241815]\n",
      "Standared Error : [90.46545363]\n"
     ]
    }
   ],
   "source": [
    "F_stats = (ms_regression/ms_residual)\n",
    "print(\"F-stats for data : \", F_stats)\n",
    "std_Error = (ms_residual**0.5) \n",
    "print(\"Standared Error :\", std_Error)"
   ]
  },
  {
   "cell_type": "code",
   "execution_count": 115,
   "metadata": {},
   "outputs": [
    {
     "name": "stdout",
     "output_type": "stream",
     "text": [
      "ANOVA\n",
      " \t\t degree of freedom\t\t SS\t\t MS\t\t \tF-stats\t \t   significance-F\n",
      "\n",
      "Regression\t k-1= 2 \t\t\t [2833339.79186592] \t [1416669.89593296] \t [173.10241815] \t 1.64e-65\n",
      "\n",
      "Residual\t n-k = 1027 \t\t [8404966.25443505] \t [8183.99830033]\n",
      "\n",
      "Total\t\t n-1 = 1029 \t\t [11238306.04630097]\n"
     ]
    }
   ],
   "source": [
    "# anova table\n",
    "F_significant = 1.64E-65 #from table\n",
    "print(\"ANOVA\\n\",\"\\t\\t\",\"degree of freedom\\t\\t\", \"SS\\t\\t\", \"MS\\t\\t\", \"\\tF-stats\\t\", \"\\t   significance-F\")\n",
    "print(\"\\nRegression\\t\", \"k-1=\", 2 , \"\\t\\t\\t\", ss_regression, \"\\t\", ms_regression, \"\\t\", F_stats, \"\\t\", F_significant)\n",
    "print(\"\\nResidual\\t\", \"n-k =\", 1027, \"\\t\\t\", ss_residual, \"\\t\", ms_residual )\n",
    "print(\"\\nTotal\\t\\t\", \"n-1 =\", 1029, \"\\t\\t\", ss_regression+ss_residual )"
   ]
  }
 ],
 "metadata": {
  "kernelspec": {
   "display_name": "Python 3",
   "language": "python",
   "name": "python3"
  },
  "language_info": {
   "codemirror_mode": {
    "name": "ipython",
    "version": 3
   },
   "file_extension": ".py",
   "mimetype": "text/x-python",
   "name": "python",
   "nbconvert_exporter": "python",
   "pygments_lexer": "ipython3",
   "version": "3.8.3"
  }
 },
 "nbformat": 4,
 "nbformat_minor": 4
}
