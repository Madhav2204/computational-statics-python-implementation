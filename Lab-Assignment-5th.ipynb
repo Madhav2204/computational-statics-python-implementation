{
 "cells": [
  {
   "cell_type": "markdown",
   "metadata": {},
   "source": [
    "# Completing the incomplete program on frequency distribution table  "
   ]
  },
  {
   "cell_type": "code",
   "execution_count": 28,
   "metadata": {},
   "outputs": [],
   "source": [
    "# Creating a Grouped Frequency Table\n",
    "def create_classes(numbers, n):\n",
    "    low = min(numbers)   \n",
    "    high = max(numbers)  \n",
    "    # Width of each class\n",
    "    width = (high - low)/n  \n",
    "    classes = []\n",
    "    a = low  # 1\n",
    "    b = low + width \n",
    "    classes = []\n",
    "    while a < (high-width):\n",
    "        classes.append((a, b))\n",
    "        a = b\n",
    "        b = a + width\n",
    "# The last class may be of a size that is less than width\n",
    "    classes.append((a, high+1))\n",
    "    return classes"
   ]
  },
  {
   "cell_type": "code",
   "execution_count": 29,
   "metadata": {},
   "outputs": [
    {
     "name": "stdout",
     "output_type": "stream",
     "text": [
      "[(1, 5.5), (5.5, 11)]\n",
      "Number\tFrequency\n",
      "(1, 5.5)\t6\n",
      "(5.5, 11)\t14\n"
     ]
    }
   ],
   "source": [
    "from collections import Counter\n",
    "def frequency_table(numb,num):\n",
    "    table = Counter(numb)\n",
    "    table_freq = Counter(num)\n",
    "    print('Number\\tFrequency')\n",
    "    number=[]\n",
    "    freq = 0\n",
    "    for number in table.most_common():\n",
    "        for value in table_freq.most_common():\n",
    "            if value[0] >= number[0][0] and value[0]<number[0][1]:\n",
    "                freq = freq + value[1]\n",
    "        print('{0}\\t{1}'.format(number[0], freq))\n",
    "        freq = 0\n",
    "if __name__=='__main__':\n",
    "    num = [7, 8, 9, 2, 10, 9, 9, 9, 9, 4, 5, 6, 1, 5, 6, 7, 8, 6, 1, 10]\n",
    "    scores = create_classes(num,2) \n",
    "    print(scores)\n",
    "    frequency_table(scores,num)   # completed"
   ]
  }
 ],
 "metadata": {
  "kernelspec": {
   "display_name": "Python 3",
   "language": "python",
   "name": "python3"
  },
  "language_info": {
   "codemirror_mode": {
    "name": "ipython",
    "version": 3
   },
   "file_extension": ".py",
   "mimetype": "text/x-python",
   "name": "python",
   "nbconvert_exporter": "python",
   "pygments_lexer": "ipython3",
   "version": "3.8.3"
  }
 },
 "nbformat": 4,
 "nbformat_minor": 4
}
