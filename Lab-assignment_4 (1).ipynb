{
 "cells": [
  {
   "cell_type": "markdown",
   "metadata": {},
   "source": [
    "Lab Assignment 4"
   ]
  },
  {
   "cell_type": "markdown",
   "metadata": {},
   "source": [
    "Q.1 A website requires the users to input username and password to register. Write a program to check the validity of password input by users. Following are the criteria for checking the password:\n",
    "\n",
    "At least 1 letter between [a-z]\n",
    "At least 1 number between [0-9]\n",
    "At least 1 letter between [A-Z]\n",
    "At least 1 character from [$#@]\n",
    "Minimum length of transaction password: 6\n",
    "Maximum length of transaction password: 12 Your program should accept a sequence of comma separated passwords and will check them according to the above criteria. Passwords that match the criteria are to be printed, each separated by a comma. Example If the following passwords are given as input to the program: ABd1234@1,a F1#,2w3E*,2We3345 Then, the output of the program should be: ABd1234@1 be correct password Hints: In case of input data being supplied to the question, it should be assumed to be a console input."
   ]
  },
  {
   "cell_type": "code",
   "execution_count": 1,
   "metadata": {},
   "outputs": [
    {
     "name": "stdout",
     "output_type": "stream",
     "text": [
      "Enter Your Username :rohit sharma\n",
      "Enter Your Password :Ronit@2208\n",
      "Valid Password\n"
     ]
    }
   ],
   "source": [
    "beg,lap,hass,multi = 0, 0, 0, 0\n",
    "UserName=input(\"Enter Your Username :\")\n",
    "Password= input(\"Enter Your Password :\")\n",
    "if (len(Password) >= 8): \n",
    "    for i in Password: \n",
    "        if (i.islower()):                  # performing on lowercase alphabets \n",
    "            beg+=1            \n",
    "        if (i.isupper()):                  # performing on uppercase alphabets\n",
    "            lap+=1            \n",
    "        if (i.isdigit()):                  # performing on digits\n",
    "            hass+=1            \n",
    "  \n",
    "        # counting the mentioned special characters \n",
    "        if(i=='@'or i=='$' or i=='_'): \n",
    "            multi+=1  \n",
    "            \n",
    "if (beg>=1 and lap>=1 and multi>=1 and hass>=1 and beg+lap+multi+hass==len(Password)): \n",
    "    print(\"Valid Password\") \n",
    "else: \n",
    "    print(\"Invalid Password\") "
   ]
  },
  {
   "cell_type": "markdown",
   "metadata": {},
   "source": [
    "Q 2 You are required to write a program to sort the (name, age, height) tuples by ascending order where name is string, age and height are numbers. The tuples are input by console. The sort criteria is: 1: Sort based on name; 2: Then sort based on age; 3: Then sort by score. The priority is that name > age > score. If the following tuples are given as input to the program: Tom,19,80 John,20,90 Jony,17,91 Jony,17,93 Json,21,85 Then, the output of the program should be: [('John', '20', '90'), ('Jony', '17', '91'), ('Jony', '17', '93'), ('Json', '21', '85'), ('Tom', '19', '80')]\n",
    "\n",
    "Hints: In case of input data being supplied to the question, it should be assumed to be a console input. We use itemgetter to enable multiple sort keys"
   ]
  },
  {
   "cell_type": "code",
   "execution_count": 6,
   "metadata": {},
   "outputs": [
    {
     "name": "stdout",
     "output_type": "stream",
     "text": [
      "Please enter the user data in order of first and last name, age and height separated by commas. \n",
      "mohit,20,23\n",
      "ronny,18,45\n",
      "gagan,19,55\n",
      "satish,22,60\n",
      "\n",
      "Your result:\n",
      "[('gagan', '19', '55'), ('mohit', '20', '23'), ('ronny', '18', '45'), ('satish', '22', '60')]\n"
     ]
    }
   ],
   "source": [
    "from operator import itemgetter\n",
    "UserData = []                         # empty list to append sorted items\n",
    "print(\"Please enter the user data in order of first and last name, age and height separated by commas. \")\n",
    "while True:\n",
    "    InputData = input()\n",
    "    if not InputData:\n",
    "        break\n",
    "    UserData.append(tuple(InputData.split(\",\")))          # converting to tuple\n",
    "print(\"Your result:\")\n",
    "print(sorted(UserData, key=itemgetter(0,1,2)))            # use of itemgetter"
   ]
  },
  {
   "cell_type": "code",
   "execution_count": null,
   "metadata": {},
   "outputs": [],
   "source": []
  },
  {
   "cell_type": "markdown",
   "metadata": {},
   "source": [
    "Q.3 Write a program to compute the frequency of the words from the input. The output should output after sorting the key alphanumerically. \n",
    "Suppose the following input is supplied to the program:\n",
    "New to Python or choosing between Python 2 and Python 3? Read Python 2 or Python 3.\n",
    "Then, the output should be:\n",
    "2:2\n",
    "3.:1\n",
    "3?:1\n",
    "New:1\n",
    "Python:5\n",
    "Read:1\n",
    "and:1\n",
    "between:1\n",
    "choosing:1\n",
    "or:2\n",
    "to:1\n",
    "\n",
    "Hints\n",
    "In case of input data being supplied to the question, it should be assumed to be a console input."
   ]
  },
  {
   "cell_type": "code",
   "execution_count": 8,
   "metadata": {},
   "outputs": [
    {
     "name": "stdout",
     "output_type": "stream",
     "text": [
      "Enter Your String:\n",
      "He live in U.S but eat vegetables only, his address is 22 road,22 block,southemtam\n",
      "22:1\n",
      "He:1\n",
      "U.S:1\n",
      "address:1\n",
      "block,southemtam:1\n",
      "but:1\n",
      "eat:1\n",
      "his:1\n",
      "in:1\n",
      "is:1\n",
      "live:1\n",
      "only,:1\n",
      "road,22:1\n",
      "vegetables:1\n"
     ]
    }
   ],
   "source": [
    "print(\"Enter Your String:\")\n",
    "MyLst = input().split()\n",
    "word = sorted(set(MyLst))     # split words are stored and sorted as a set\n",
    "\n",
    "for i in word:\n",
    "    print(\"{0}:{1}\".format(i,MyLst.count(i)))"
   ]
  },
  {
   "cell_type": "code",
   "execution_count": null,
   "metadata": {},
   "outputs": [],
   "source": []
  },
  {
   "cell_type": "markdown",
   "metadata": {},
   "source": [
    "Q.4 Please write a program which accepts a string from console and print the characters that have even indexes.\n",
    "\n",
    "Example:\n",
    "If the following string is given as input to the program:\n",
    "\n",
    "H1e2l3l4o5w6o7r8l9d\n",
    "\n",
    "Then, the output of the program should be:\n",
    "\n",
    "Helloworld\n",
    "\n",
    "Hints:\n",
    "Use list[::2] to iterate a list by step 2."
   ]
  },
  {
   "cell_type": "code",
   "execution_count": 9,
   "metadata": {},
   "outputs": [
    {
     "name": "stdout",
     "output_type": "stream",
     "text": [
      "Enter your string: python\n",
      "program generated string: pto\n"
     ]
    }
   ],
   "source": [
    "string = input(\"Enter your string: \")\n",
    "NewString = ''                               #empty string\n",
    "for i in range(len(string)):\n",
    "    if i % 2 == 0:                           #getting even indexed element\n",
    "        NewString+= string[i]\n",
    "print(\"program generated string:\",NewString)"
   ]
  },
  {
   "cell_type": "code",
   "execution_count": null,
   "metadata": {},
   "outputs": [],
   "source": []
  },
  {
   "cell_type": "markdown",
   "metadata": {},
   "source": [
    "Q 5 With a given list [12,24,35,24,88,120,155,88,120,155], \n",
    "write a program to print this list after removing all duplicate values with original order reserved.\n",
    "\n",
    "Hints:\n",
    "Use set() to store a number of values without duplicate.\n"
   ]
  },
  {
   "cell_type": "code",
   "execution_count": 7,
   "metadata": {},
   "outputs": [
    {
     "name": "stdout",
     "output_type": "stream",
     "text": [
      "[12, 24, 35, 88, 120, 155]\n"
     ]
    }
   ],
   "source": [
    "mylst = [12,24,35,24,88,120,155,88,120,155]      #given list\n",
    "\n",
    "DupItems = set()                                # setting elments\n",
    "UniqItems = []\n",
    "for x in mylst:\n",
    "    if x not in DupItems:\n",
    "        UniqItems.append(x)                    # appending element new one\n",
    "        DupItems.add(x)\n",
    "\n",
    "print(UniqItems)"
   ]
  },
  {
   "cell_type": "code",
   "execution_count": null,
   "metadata": {},
   "outputs": [],
   "source": []
  },
  {
   "cell_type": "markdown",
   "metadata": {},
   "source": [
    "Q 6 Given a string, find a substring based on the following conditions:\n",
    "\n",
    "The substring must be the longest one of all the possible substring in the given string.\n",
    "There must not be any repeating characters in the substring.\n",
    "If there is more than one substring satisfying the above two conditions, then print the substring which occurs first.\n",
    "If there is no substring satisfying all the aforementioned conditions then print -1."
   ]
  },
  {
   "cell_type": "code",
   "execution_count": 14,
   "metadata": {},
   "outputs": [
    {
     "name": "stdout",
     "output_type": "stream",
     "text": [
      "Enter yourt string\n",
      "substring\n",
      "ubstring\n"
     ]
    }
   ],
   "source": [
    "print(\"Enter yourt string\")         #taking input from user\n",
    "MyString=input()\n",
    "MySubString=\"\"\n",
    "Maxchar=0\n",
    "for i in range(len(MyString)-1):\n",
    "    k=i\n",
    "    for j in range(i+1,len(MyString)):\n",
    "        if MyString[j] not in MyString[i:j]:\n",
    "            k+=1\n",
    "        else:\n",
    "            break\n",
    "    if len(MyString[i:k+1])>=Maxchar:\n",
    "        Maxchar=len(MyString[i:k+1])\n",
    "        MySubString=MyString[i:k+1]\n",
    "\n",
    "print(MySubString)"
   ]
  },
  {
   "cell_type": "code",
   "execution_count": null,
   "metadata": {},
   "outputs": [],
   "source": []
  }
 ],
 "metadata": {
  "kernelspec": {
   "display_name": "Python 3",
   "language": "python",
   "name": "python3"
  },
  "language_info": {
   "codemirror_mode": {
    "name": "ipython",
    "version": 3
   },
   "file_extension": ".py",
   "mimetype": "text/x-python",
   "name": "python",
   "nbconvert_exporter": "python",
   "pygments_lexer": "ipython3",
   "version": "3.8.3"
  }
 },
 "nbformat": 4,
 "nbformat_minor": 4
}
