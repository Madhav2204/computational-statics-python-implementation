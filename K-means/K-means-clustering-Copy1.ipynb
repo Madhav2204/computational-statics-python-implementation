{
 "cells": [
  {
   "cell_type": "markdown",
   "metadata": {},
   "source": [
    "# K-means clustering on Iris data set "
   ]
  },
  {
   "cell_type": "code",
   "execution_count": 1,
   "metadata": {},
   "outputs": [],
   "source": [
    "import numpy as np\n",
    "import pandas as pd\n",
    "import matplotlib.pyplot as plt"
   ]
  },
  {
   "cell_type": "code",
   "execution_count": 2,
   "metadata": {},
   "outputs": [
    {
     "data": {
      "text/html": [
       "<div>\n",
       "<style scoped>\n",
       "    .dataframe tbody tr th:only-of-type {\n",
       "        vertical-align: middle;\n",
       "    }\n",
       "\n",
       "    .dataframe tbody tr th {\n",
       "        vertical-align: top;\n",
       "    }\n",
       "\n",
       "    .dataframe thead th {\n",
       "        text-align: right;\n",
       "    }\n",
       "</style>\n",
       "<table border=\"1\" class=\"dataframe\">\n",
       "  <thead>\n",
       "    <tr style=\"text-align: right;\">\n",
       "      <th></th>\n",
       "      <th>SepalLengthCm</th>\n",
       "      <th>SepalWidthCm</th>\n",
       "      <th>PetalLengthCm</th>\n",
       "      <th>PetalWidthCm</th>\n",
       "      <th>Species</th>\n",
       "    </tr>\n",
       "  </thead>\n",
       "  <tbody>\n",
       "    <tr>\n",
       "      <th>0</th>\n",
       "      <td>5.1</td>\n",
       "      <td>3.5</td>\n",
       "      <td>1.4</td>\n",
       "      <td>0.2</td>\n",
       "      <td>Iris-setosa</td>\n",
       "    </tr>\n",
       "    <tr>\n",
       "      <th>1</th>\n",
       "      <td>4.9</td>\n",
       "      <td>3.0</td>\n",
       "      <td>1.4</td>\n",
       "      <td>0.2</td>\n",
       "      <td>Iris-setosa</td>\n",
       "    </tr>\n",
       "    <tr>\n",
       "      <th>2</th>\n",
       "      <td>4.7</td>\n",
       "      <td>3.2</td>\n",
       "      <td>1.3</td>\n",
       "      <td>0.2</td>\n",
       "      <td>Iris-setosa</td>\n",
       "    </tr>\n",
       "    <tr>\n",
       "      <th>3</th>\n",
       "      <td>4.6</td>\n",
       "      <td>3.1</td>\n",
       "      <td>1.5</td>\n",
       "      <td>0.2</td>\n",
       "      <td>Iris-setosa</td>\n",
       "    </tr>\n",
       "    <tr>\n",
       "      <th>4</th>\n",
       "      <td>5.0</td>\n",
       "      <td>3.6</td>\n",
       "      <td>1.4</td>\n",
       "      <td>0.2</td>\n",
       "      <td>Iris-setosa</td>\n",
       "    </tr>\n",
       "  </tbody>\n",
       "</table>\n",
       "</div>"
      ],
      "text/plain": [
       "   SepalLengthCm  SepalWidthCm  PetalLengthCm  PetalWidthCm      Species\n",
       "0            5.1           3.5            1.4           0.2  Iris-setosa\n",
       "1            4.9           3.0            1.4           0.2  Iris-setosa\n",
       "2            4.7           3.2            1.3           0.2  Iris-setosa\n",
       "3            4.6           3.1            1.5           0.2  Iris-setosa\n",
       "4            5.0           3.6            1.4           0.2  Iris-setosa"
      ]
     },
     "execution_count": 2,
     "metadata": {},
     "output_type": "execute_result"
    }
   ],
   "source": [
    "#let's first import our data \n",
    "data = pd.read_csv('Iris.csv')\n",
    "data = data.drop(columns = ['Id'])\n",
    "data.head()"
   ]
  },
  {
   "cell_type": "markdown",
   "metadata": {},
   "source": [
    "# By looking at the data , arbitarirly taking k = 3\n"
   ]
  },
  {
   "cell_type": "code",
   "execution_count": 3,
   "metadata": {},
   "outputs": [
    {
     "name": "stdout",
     "output_type": "stream",
     "text": [
      "300\n"
     ]
    }
   ],
   "source": [
    "#loading data in matrix\n",
    "newdata = data.values\n",
    "x1 = newdata[:, 0]\n",
    "x2 = newdata[:, 1]\n",
    "X = np.append(x1, x2)\n",
    "print(len(X))"
   ]
  },
  {
   "cell_type": "code",
   "execution_count": 4,
   "metadata": {},
   "outputs": [
    {
     "data": {
      "image/png": "[encoded data removed]",
      "text/plain": [
       "<Figure size 432x288 with 1 Axes>"
      ]
     },
     "metadata": {
      "needs_background": "light"
     },
     "output_type": "display_data"
    }
   ],
   "source": [
    "#visualizing raw data\n",
    "plt.scatter(x1, x2)\n",
    "plt.show()"
   ]
  },
  {
   "cell_type": "code",
   "execution_count": null,
   "metadata": {},
   "outputs": [],
   "source": []
  },
  {
   "cell_type": "code",
   "execution_count": 5,
   "metadata": {},
   "outputs": [],
   "source": [
    "# now we got our data so lets move to arbitarirly differentiate data\n",
    "cluster1 = np.random.choice(X, 100, replace = 'Flase') \n",
    "cluster2 = np.random.choice(X, 100, replace = 'Flase') \n",
    "cluster3 = np.random.choice(X, 100, replace = 'False')"
   ]
  },
  {
   "cell_type": "code",
   "execution_count": 16,
   "metadata": {},
   "outputs": [],
   "source": [
    "#mean points of randomly choosen data clusters\n",
    "def clustering(X, cluster1, cluster2, cluster3):\n",
    "    mean_cluster1 = np.mean(cluster1)\n",
    "    mean_cluster2 = np.mean(cluster2)\n",
    "    mean_cluster3 = np.mean(cluster3)\n",
    "    calculate_euclidean_distance(X,mean_cluster1,mean_cluster2,mean_cluster3)\n",
    "#     return mean_cluster1 , mean_cluster2, mean_cluster3\n",
    "\n",
    "# mean_cluster1, mean_cluster2, mean_cluster3 = calculate_meanOfClusters(cluster1,cluster2,cluster3)\n",
    "# print(mean_cluster1, \" \",mean_cluster2,\" \", mean_cluster3)"
   ]
  },
  {
   "cell_type": "code",
   "execution_count": 20,
   "metadata": {},
   "outputs": [],
   "source": [
    "# taking educlidean distance \n",
    "def calculate_euclidean_distance(X, mean_cluster1,mean_cluster2,mean_cluster3):\n",
    "    dist1 = []\n",
    "    dist2 = []\n",
    "    dist3 = []\n",
    "    temp1 = 0\n",
    "    temp2 = 0\n",
    "    temp3 = 0\n",
    "    for i in range(len(X)):\n",
    "        temp1 = np.sum(np.sqrt((X[i]-mean_cluster1)**(2)), axis = 0)\n",
    "        temp2 = np.sum(np.sqrt((X[i]-mean_cluster2)**(2)), axis = 0)\n",
    "        temp3 = np.sum(np.sqrt((X[i]-mean_cluster3)**(2)), axis = 0)\n",
    "        dist1 = np.append(dist1, temp1)\n",
    "        dist2 = np.append(dist2, temp2)\n",
    "        dist3 = np.append(dist3, temp3)\n",
    "        temp1 = 0\n",
    "        temp2 = 0\n",
    "        temp3 = 0\n",
    "    reconstruct_clusters(X,dist1,dist2,dist3)"
   ]
  },
  {
   "cell_type": "code",
   "execution_count": 25,
   "metadata": {},
   "outputs": [],
   "source": [
    "def reconstruct_clusters(X,dist1,dist2,dist3):\n",
    "    newCluster1 = []\n",
    "    newCluster2 = []\n",
    "    newCluster3 = []\n",
    "    temp = 0\n",
    "    temp1 = 0\n",
    "    temp2 = 0\n",
    "    for i in range(X.shape[0]):\n",
    "        if dist1[i]<dist2[i] and dist1[i]<dist3[i]:\n",
    "            temp = X[i]\n",
    "            newCluster1 = np.append(newCluster1, temp)\n",
    "            temp = 0\n",
    "        elif dist2[i]<dist1[i] and dist2[i]<dist3[i]:\n",
    "            temp1 = X[i]\n",
    "            newCluster2 = np.append(newCluster2, temp1)\n",
    "            temp1 = 0\n",
    "        elif dist3[i]<dist1[i] and dist3[i]<dist2[i]:\n",
    "            temp2 = X[i]\n",
    "            newCluster3 = np.append(newCluster3, temp2)\n",
    "            temp2 = 0\n",
    "            \n",
    "    return newCluster1, newCluster2, newCluster3\n",
    "\n",
    "# print(newCluster1.size)\n",
    "# print(newCluster2.size)\n",
    "# print(newCluster3.size)"
   ]
  },
  {
   "cell_type": "code",
   "execution_count": 26,
   "metadata": {},
   "outputs": [
    {
     "ename": "TypeError",
     "evalue": "cannot unpack non-iterable NoneType object",
     "output_type": "error",
     "traceback": [
      "\u001b[1;31m---------------------------------------------------------------------------\u001b[0m",
      "\u001b[1;31mTypeError\u001b[0m                                 Traceback (most recent call last)",
      "\u001b[1;32m<ipython-input-26-f975b3e5736c>\u001b[0m in \u001b[0;36m<module>\u001b[1;34m\u001b[0m\n\u001b[0;32m      1\u001b[0m \u001b[1;31m# calculating clusters for 1st iteration\u001b[0m\u001b[1;33m\u001b[0m\u001b[1;33m\u001b[0m\u001b[1;33m\u001b[0m\u001b[0m\n\u001b[1;32m----> 2\u001b[1;33m \u001b[0mnewcluster_1\u001b[0m\u001b[1;33m,\u001b[0m \u001b[0mnewcluster_2\u001b[0m\u001b[1;33m,\u001b[0m \u001b[0mnewcluster_3\u001b[0m \u001b[1;33m=\u001b[0m \u001b[0mclustering\u001b[0m\u001b[1;33m(\u001b[0m\u001b[0mX\u001b[0m\u001b[1;33m,\u001b[0m\u001b[0mcluster1\u001b[0m\u001b[1;33m,\u001b[0m\u001b[0mcluster2\u001b[0m\u001b[1;33m,\u001b[0m\u001b[0mcluster3\u001b[0m\u001b[1;33m)\u001b[0m\u001b[1;33m\u001b[0m\u001b[1;33m\u001b[0m\u001b[0m\n\u001b[0m",
      "\u001b[1;31mTypeError\u001b[0m: cannot unpack non-iterable NoneType object"
     ]
    }
   ],
   "source": [
    "# calculating clusters for 1st iteration\n",
    "newcluster_1, newcluster_2, newcluster_3 = clustering(X,cluster1,cluster2,cluster3)"
   ]
  },
  {
   "cell_type": "code",
   "execution_count": 27,
   "metadata": {},
   "outputs": [
    {
     "ename": "NameError",
     "evalue": "name 'newCluster1' is not defined",
     "output_type": "error",
     "traceback": [
      "\u001b[1;31m---------------------------------------------------------------------------\u001b[0m",
      "\u001b[1;31mNameError\u001b[0m                                 Traceback (most recent call last)",
      "\u001b[1;32m<ipython-input-27-6211fff04a40>\u001b[0m in \u001b[0;36m<module>\u001b[1;34m\u001b[0m\n\u001b[0;32m      1\u001b[0m \u001b[1;31m# taking  mean points of new clusters\u001b[0m\u001b[1;33m\u001b[0m\u001b[1;33m\u001b[0m\u001b[1;33m\u001b[0m\u001b[0m\n\u001b[1;32m----> 2\u001b[1;33m \u001b[0mup_mean1\u001b[0m \u001b[1;33m=\u001b[0m \u001b[0mnp\u001b[0m\u001b[1;33m.\u001b[0m\u001b[0mmean\u001b[0m\u001b[1;33m(\u001b[0m\u001b[0mnewCluster1\u001b[0m\u001b[1;33m,\u001b[0m \u001b[0maxis\u001b[0m \u001b[1;33m=\u001b[0m \u001b[1;36m0\u001b[0m\u001b[1;33m)\u001b[0m\u001b[1;33m\u001b[0m\u001b[1;33m\u001b[0m\u001b[0m\n\u001b[0m\u001b[0;32m      3\u001b[0m \u001b[0mup_mean2\u001b[0m \u001b[1;33m=\u001b[0m \u001b[0mnp\u001b[0m\u001b[1;33m.\u001b[0m\u001b[0mmean\u001b[0m\u001b[1;33m(\u001b[0m\u001b[0mnewCluster2\u001b[0m\u001b[1;33m,\u001b[0m \u001b[0maxis\u001b[0m \u001b[1;33m=\u001b[0m \u001b[1;36m0\u001b[0m\u001b[1;33m)\u001b[0m\u001b[1;33m\u001b[0m\u001b[1;33m\u001b[0m\u001b[0m\n\u001b[0;32m      4\u001b[0m \u001b[0mup_mean3\u001b[0m \u001b[1;33m=\u001b[0m \u001b[0mnp\u001b[0m\u001b[1;33m.\u001b[0m\u001b[0mmean\u001b[0m\u001b[1;33m(\u001b[0m\u001b[0mnewCluster3\u001b[0m\u001b[1;33m,\u001b[0m \u001b[0maxis\u001b[0m \u001b[1;33m=\u001b[0m \u001b[1;36m0\u001b[0m\u001b[1;33m)\u001b[0m\u001b[1;33m\u001b[0m\u001b[1;33m\u001b[0m\u001b[0m\n",
      "\u001b[1;31mNameError\u001b[0m: name 'newCluster1' is not defined"
     ]
    }
   ],
   "source": [
    "# taking  mean points of new clusters\n",
    "up_mean1 = np.mean(newCluster1, axis = 0)\n",
    "up_mean2 = np.mean(newCluster2, axis = 0)\n",
    "up_mean3 = np.mean(newCluster3, axis = 0)"
   ]
  },
  {
   "cell_type": "code",
   "execution_count": 10,
   "metadata": {},
   "outputs": [],
   "source": [
    "updist1 = []\n",
    "updist2 = []\n",
    "updist3 = []\n",
    "temp1 = 0\n",
    "temp2 = 0\n",
    "temp3 = 0\n",
    "for i in range(len(X)):\n",
    "    temp1 = np.sum(np.sqrt((X[i]-up_mean1)**(2)), axis = 0)\n",
    "    temp2 = np.sum(np.sqrt((X[i]-up_mean2)**(2)), axis = 0)\n",
    "    temp3 = np.sum(np.sqrt((X[i]-up_mean3)**(2)), axis = 0)\n",
    "    updist1 = np.append(updist1, temp1)\n",
    "    updist2 = np.append(updist2, temp2)\n",
    "    updist3 = np.append(updist3, temp3)\n",
    "    temp1 = 0\n",
    "    temp2 = 0\n",
    "    temp3 = 0"
   ]
  },
  {
   "cell_type": "code",
   "execution_count": 11,
   "metadata": {},
   "outputs": [
    {
     "name": "stdout",
     "output_type": "stream",
     "text": [
      "109\n",
      "53\n",
      "138\n"
     ]
    }
   ],
   "source": [
    "newupCluster1 = []\n",
    "newupCluster2 = []\n",
    "newupCluster3 = []\n",
    "temp = 0\n",
    "temp1 = 0\n",
    "temp2 = 0\n",
    "for i in range(X.shape[0]):\n",
    "    if updist1[i]<updist2[i] and updist1[i]<updist3[i]:\n",
    "        temp = X[i]\n",
    "        newupCluster1 = np.append(newupCluster1, temp)\n",
    "        temp = 0\n",
    "    elif updist2[i]<updist1[i] and updist2[i]<updist3[i]:\n",
    "        temp1 = X[i]\n",
    "        newupCluster2 = np.append(newupCluster2, temp1)\n",
    "        temp1 = 0\n",
    "    elif updist3[i]<updist1[i] and updist3[i]<updist2[i]:\n",
    "        temp2 = X[i]\n",
    "        newupCluster3 = np.append(newupCluster3, temp2)\n",
    "        temp2 = 0\n",
    "print(newupCluster1.size)\n",
    "print(newupCluster2.size)\n",
    "print(newupCluster3.size)"
   ]
  },
  {
   "cell_type": "code",
   "execution_count": 12,
   "metadata": {},
   "outputs": [],
   "source": [
    "# taking  mean points of new clusters\n",
    "up_mean1_1 = np.mean(newupCluster1, axis = 0)\n",
    "up_mean2_1 = np.mean(newupCluster2, axis = 0)\n",
    "up_mean3_1 = np.mean(newupCluster3, axis = 0)"
   ]
  },
  {
   "cell_type": "code",
   "execution_count": 13,
   "metadata": {},
   "outputs": [],
   "source": [
    "updist1_1 = []\n",
    "updist2_1 = []\n",
    "updist3_1 = []\n",
    "temp1 = 0\n",
    "temp2 = 0\n",
    "temp3 = 0\n",
    "for i in range(len(X)):\n",
    "    temp1 = np.sum(np.sqrt((X[i]-up_mean1_1)**(2)), axis = 0)\n",
    "    temp2 = np.sum(np.sqrt((X[i]-up_mean2_1)**(2)), axis = 0)\n",
    "    temp3 = np.sum(np.sqrt((X[i]-up_mean3_1)**(2)), axis = 0)\n",
    "    updist1_1 = np.append(updist1_1, temp1)\n",
    "    updist2_1 = np.append(updist2_1, temp2)\n",
    "    updist3_1 = np.append(updist3_1, temp3)\n",
    "    temp1 = 0\n",
    "    temp2 = 0\n",
    "    temp3 = 0"
   ]
  },
  {
   "cell_type": "code",
   "execution_count": 14,
   "metadata": {},
   "outputs": [
    {
     "name": "stdout",
     "output_type": "stream",
     "text": [
      "98\n",
      "58\n",
      "144\n"
     ]
    }
   ],
   "source": [
    "newupCluster1_1 = []\n",
    "newupCluster2_1 = []\n",
    "newupCluster3_1 = []\n",
    "temp = 0\n",
    "temp1 = 0\n",
    "temp2 = 0\n",
    "for i in range(X.shape[0]):\n",
    "    if updist1_1[i]<updist2_1[i] and updist1_1[i]<updist3_1[i]:\n",
    "        temp = X[i]\n",
    "        newupCluster1_1 = np.append(newupCluster1_1, temp)\n",
    "        temp = 0\n",
    "    elif updist2_1[i]<updist1_1[i] and updist2_1[i]<updist3_1[i]:\n",
    "        temp1 = X[i]\n",
    "        newupCluster2_1 = np.append(newupCluster2_1, temp1)\n",
    "        temp1 = 0\n",
    "    elif updist3_1[i]<updist1_1[i] and updist3_1[i]<updist2_1[i]:\n",
    "        temp2 = X[i]\n",
    "        newupCluster3_1 = np.append(newupCluster3_1, temp2)\n",
    "        temp2 = 0\n",
    "print(newupCluster1_1.size)\n",
    "print(newupCluster2_1.size)\n",
    "print(newupCluster3_1.size)"
   ]
  },
  {
   "cell_type": "code",
   "execution_count": 15,
   "metadata": {},
   "outputs": [],
   "source": [
    "# taking  mean points of new clusters\n",
    "up_mean1_2 = np.mean(newupCluster1_1, axis = 0)\n",
    "up_mean2_2 = np.mean(newupCluster2_1, axis = 0)\n",
    "up_mean3_2 = np.mean(newupCluster3_1, axis = 0)"
   ]
  },
  {
   "cell_type": "code",
   "execution_count": 16,
   "metadata": {},
   "outputs": [],
   "source": [
    "updist1_2 = []\n",
    "updist2_2 = []\n",
    "updist3_2 = []\n",
    "temp1 = 0\n",
    "temp2 = 0\n",
    "temp3 = 0\n",
    "for i in range(len(X)):\n",
    "    temp1 = np.sum(np.sqrt((X[i]-up_mean1_2)**(2)), axis = 0)\n",
    "    temp2 = np.sum(np.sqrt((X[i]-up_mean2_2)**(2)), axis = 0)\n",
    "    temp3 = np.sum(np.sqrt((X[i]-up_mean3_2)**(2)), axis = 0)\n",
    "    updist1_2 = np.append(updist1_2, temp1)\n",
    "    updist2_2 = np.append(updist2_2, temp2)\n",
    "    updist3_2 = np.append(updist3_2, temp3)\n",
    "    temp1 = 0\n",
    "    temp2 = 0\n",
    "    temp3 = 0"
   ]
  },
  {
   "cell_type": "code",
   "execution_count": 17,
   "metadata": {},
   "outputs": [
    {
     "name": "stdout",
     "output_type": "stream",
     "text": [
      "91\n",
      "63\n",
      "146\n"
     ]
    }
   ],
   "source": [
    "newupCluster1_2 = []\n",
    "newupCluster2_2 = []\n",
    "newupCluster3_2 = []\n",
    "temp = 0\n",
    "temp1 = 0\n",
    "temp2 = 0\n",
    "for i in range(X.shape[0]):\n",
    "    if updist1_2[i]<updist2_2[i] and updist1_2[i]<updist3_2[i]:\n",
    "        temp = X[i]\n",
    "        newupCluster1_2 = np.append(newupCluster1_2, temp)\n",
    "        temp = 0\n",
    "    elif updist2_2[i]<updist1_2[i] and updist2_2[i]<updist3_2[i]:\n",
    "        temp1 = X[i]\n",
    "        newupCluster2_2 = np.append(newupCluster2_2, temp1)\n",
    "        temp1 = 0\n",
    "    elif updist3_2[i]<updist1_2[i] and updist3_2[i]<updist2_2[i]:\n",
    "        temp2 = X[i]\n",
    "        newupCluster3_2= np.append(newupCluster3_2, temp2)\n",
    "        temp2 = 0\n",
    "        \n",
    "print(newupCluster1_2.size)\n",
    "print(newupCluster2_2.size)\n",
    "print(newupCluster3_2.size)"
   ]
  },
  {
   "cell_type": "code",
   "execution_count": 18,
   "metadata": {},
   "outputs": [
    {
     "name": "stdout",
     "output_type": "stream",
     "text": [
      "85\n",
      "69\n",
      "146\n"
     ]
    }
   ],
   "source": [
    "# taking  mean points of new clusters\n",
    "up_mean1_3 = np.mean(newupCluster1_2, axis = 0)\n",
    "up_mean2_3 = np.mean(newupCluster2_2, axis = 0)\n",
    "up_mean3_3 = np.mean(newupCluster3_2, axis = 0)\n",
    "\n",
    "updist1_3 = []\n",
    "updist2_3 = []\n",
    "updist3_3 = []\n",
    "temp1 = 0\n",
    "temp2 = 0\n",
    "temp3 = 0\n",
    "for i in range(len(X)):\n",
    "    temp1 = np.sum(np.sqrt((X[i]-up_mean1_3)**(2)), axis = 0)\n",
    "    temp2 = np.sum(np.sqrt((X[i]-up_mean2_3)**(2)), axis = 0)\n",
    "    temp3 = np.sum(np.sqrt((X[i]-up_mean3_3)**(2)), axis = 0)\n",
    "    updist1_3 = np.append(updist1_3, temp1)\n",
    "    updist2_3 = np.append(updist2_3, temp2)\n",
    "    updist3_3 = np.append(updist3_3, temp3)\n",
    "    temp1 = 0\n",
    "    temp2 = 0\n",
    "    temp3 = 0\n",
    "    \n",
    "newupCluster1_3 = []\n",
    "newupCluster2_3 = []\n",
    "newupCluster3_3 = []\n",
    "temp = 0\n",
    "temp1 = 0\n",
    "temp2 = 0\n",
    "for i in range(X.shape[0]):\n",
    "    if updist1_3[i]<updist2_3[i] and updist1_3[i]<updist3_3[i]:\n",
    "        temp = X[i]\n",
    "        newupCluster1_3 = np.append(newupCluster1_3, temp)\n",
    "        temp = 0\n",
    "    elif updist2_3[i]<updist1_3[i] and updist2_3[i]<updist3_3[i]:\n",
    "        temp1 = X[i]\n",
    "        newupCluster2_3 = np.append(newupCluster2_3, temp1)\n",
    "        temp1 = 0\n",
    "    elif updist3_3[i]<updist1_3[i] and updist3_3[i]<updist2_3[i]:\n",
    "        temp2 = X[i]\n",
    "        newupCluster3_3= np.append(newupCluster3_3, temp2)\n",
    "        temp2 = 0\n",
    "        \n",
    "print(newupCluster1_3.size)\n",
    "print(newupCluster2_3.size)\n",
    "print(newupCluster3_3.size)"
   ]
  },
  {
   "cell_type": "code",
   "execution_count": 19,
   "metadata": {},
   "outputs": [
    {
     "name": "stdout",
     "output_type": "stream",
     "text": [
      "77\n",
      "76\n",
      "147\n"
     ]
    }
   ],
   "source": [
    "# taking  mean points of new clusters\n",
    "up_mean1_4 = np.mean(newupCluster1_3, axis = 0)\n",
    "up_mean2_4 = np.mean(newupCluster2_3, axis = 0)\n",
    "up_mean3_4 = np.mean(newupCluster3_3, axis = 0)\n",
    "\n",
    "updist1_4 = []\n",
    "updist2_4 = []\n",
    "updist3_4 = []\n",
    "temp1 = 0\n",
    "temp2 = 0\n",
    "temp3 = 0\n",
    "for i in range(len(X)):\n",
    "    temp1 = np.sum(np.sqrt((X[i]-up_mean1_4)**(2)), axis = 0)\n",
    "    temp2 = np.sum(np.sqrt((X[i]-up_mean2_4)**(2)), axis = 0)\n",
    "    temp3 = np.sum(np.sqrt((X[i]-up_mean3_4)**(2)), axis = 0)\n",
    "    updist1_4 = np.append(updist1_4, temp1)\n",
    "    updist2_4 = np.append(updist2_4, temp2)\n",
    "    updist3_4 = np.append(updist3_4, temp3)\n",
    "    temp1 = 0\n",
    "    temp2 = 0\n",
    "    temp3 = 0\n",
    "    \n",
    "newupCluster1_4 = []\n",
    "newupCluster2_4 = []\n",
    "newupCluster3_4 = []\n",
    "temp = 0\n",
    "temp1 = 0\n",
    "temp2 = 0\n",
    "for i in range(X.shape[0]):\n",
    "    if updist1_4[i]<updist2_4[i] and updist1_4[i]<updist3_4[i]:\n",
    "        temp = X[i]\n",
    "        newupCluster1_4 = np.append(newupCluster1_4, temp)\n",
    "        temp = 0\n",
    "    elif updist2_4[i]<updist1_4[i] and updist2_4[i]<updist3_4[i]:\n",
    "        temp1 = X[i]\n",
    "        newupCluster2_4 = np.append(newupCluster2_4, temp1)\n",
    "        temp1 = 0\n",
    "    elif updist3_4[i]<updist1_4[i] and updist3_4[i]<updist2_4[i]:\n",
    "        temp2 = X[i]\n",
    "        newupCluster3_4= np.append(newupCluster3_4, temp2)\n",
    "        temp2 = 0\n",
    "        \n",
    "print(newupCluster1_4.size)\n",
    "print(newupCluster2_4.size)\n",
    "print(newupCluster3_4.size)"
   ]
  },
  {
   "cell_type": "code",
   "execution_count": 20,
   "metadata": {},
   "outputs": [
    {
     "name": "stdout",
     "output_type": "stream",
     "text": [
      "70\n",
      "83\n",
      "147\n"
     ]
    }
   ],
   "source": [
    "# taking  mean points of new clusters\n",
    "up_mean1_5 = np.mean(newupCluster1_4, axis = 0)\n",
    "up_mean2_5 = np.mean(newupCluster2_4, axis = 0)\n",
    "up_mean3_5 = np.mean(newupCluster3_4, axis = 0)\n",
    "\n",
    "updist1_5 = []\n",
    "updist2_5 = []\n",
    "updist3_5 = []\n",
    "temp1 = 0\n",
    "temp2 = 0\n",
    "temp3 = 0\n",
    "for i in range(len(X)):\n",
    "    temp1 = np.sum(np.sqrt((X[i]-up_mean1_5)**(2)), axis = 0)\n",
    "    temp2 = np.sum(np.sqrt((X[i]-up_mean2_5)**(2)), axis = 0)\n",
    "    temp3 = np.sum(np.sqrt((X[i]-up_mean3_5)**(2)), axis = 0)\n",
    "    updist1_5 = np.append(updist1_5, temp1)\n",
    "    updist2_5 = np.append(updist2_5, temp2)\n",
    "    updist3_5 = np.append(updist3_5, temp3)\n",
    "    temp1 = 0\n",
    "    temp2 = 0\n",
    "    temp3 = 0\n",
    "    \n",
    "newupCluster1_5 = []\n",
    "newupCluster2_5 = []\n",
    "newupCluster3_5 = []\n",
    "temp = 0\n",
    "temp1 = 0\n",
    "temp2 = 0\n",
    "for i in range(X.shape[0]):\n",
    "    if updist1_5[i]<updist2_5[i] and updist1_5[i]<updist3_5[i]:\n",
    "        temp = X[i]\n",
    "        newupCluster1_5 = np.append(newupCluster1_5, temp)\n",
    "        temp = 0\n",
    "    elif updist2_5[i]<updist1_5[i] and updist2_5[i]<updist3_5[i]:\n",
    "        temp1 = X[i]\n",
    "        newupCluster2_5 = np.append(newupCluster2_5, temp1)\n",
    "        temp1 = 0\n",
    "    elif updist3_5[i]<updist1_5[i] and updist3_5[i]<updist2_5[i]:\n",
    "        temp2 = X[i]\n",
    "        newupCluster3_5= np.append(newupCluster3_5, temp2)\n",
    "        temp2 = 0\n",
    "        \n",
    "print(newupCluster1_5.size)\n",
    "print(newupCluster2_5.size)\n",
    "print(newupCluster3_5.size)"
   ]
  },
  {
   "cell_type": "code",
   "execution_count": 21,
   "metadata": {},
   "outputs": [
    {
     "name": "stdout",
     "output_type": "stream",
     "text": [
      "70\n",
      "83\n",
      "147\n"
     ]
    }
   ],
   "source": [
    "# taking  mean points of new clusters\n",
    "up_mean1_6 = np.mean(newupCluster1_5, axis = 0)\n",
    "up_mean2_6 = np.mean(newupCluster2_5, axis = 0)\n",
    "up_mean3_6 = np.mean(newupCluster3_5, axis = 0)\n",
    "\n",
    "updist1_6 = []\n",
    "updist2_6 = []\n",
    "updist3_6 = []\n",
    "temp1 = 0\n",
    "temp2 = 0\n",
    "temp3 = 0\n",
    "for i in range(len(X)):\n",
    "    temp1 = np.sum(np.sqrt((X[i]-up_mean1_6)**(2)), axis = 0)\n",
    "    temp2 = np.sum(np.sqrt((X[i]-up_mean2_6)**(2)), axis = 0)\n",
    "    temp3 = np.sum(np.sqrt((X[i]-up_mean3_6)**(2)), axis = 0)\n",
    "    updist1_6 = np.append(updist1_6, temp1)\n",
    "    updist2_6 = np.append(updist2_6, temp2)\n",
    "    updist3_6 = np.append(updist3_6, temp3)\n",
    "    temp1 = 0\n",
    "    temp2 = 0\n",
    "    temp3 = 0\n",
    "    \n",
    "newupCluster1_6 = []\n",
    "newupCluster2_6 = []\n",
    "newupCluster3_6 = []\n",
    "temp = 0\n",
    "temp1 = 0\n",
    "temp2 = 0\n",
    "for i in range(X.shape[0]):\n",
    "    if updist1_6[i]<updist2_6[i] and updist1_6[i]<updist3_6[i]:\n",
    "        temp = X[i]\n",
    "        newupCluster1_6 = np.append(newupCluster1_6, temp)\n",
    "        temp = 0\n",
    "    elif updist2_6[i]<updist1_6[i] and updist2_6[i]<updist3_6[i]:\n",
    "        temp1 = X[i]\n",
    "        newupCluster2_6 = np.append(newupCluster2_6, temp1)\n",
    "        temp1 = 0\n",
    "    elif updist3_6[i]<updist1_6[i] and updist3_6[i]<updist2_6[i]:\n",
    "        temp2 = X[i]\n",
    "        newupCluster3_6= np.append(newupCluster3_6, temp2)\n",
    "        temp2 = 0\n",
    "        \n",
    "print(newupCluster1_6.size)\n",
    "print(newupCluster2_6.size)\n",
    "print(newupCluster3_6.size)"
   ]
  },
  {
   "cell_type": "markdown",
   "metadata": {},
   "source": [
    "As the number of elements being constant now we here declare that these are our final clusters"
   ]
  },
  {
   "cell_type": "markdown",
   "metadata": {},
   "source": [
    "# So our final clusters are : "
   ]
  },
  {
   "cell_type": "code",
   "execution_count": 22,
   "metadata": {},
   "outputs": [
    {
     "name": "stdout",
     "output_type": "stream",
     "text": [
      "The 1st cluster is : \n",
      " [7.  6.4 6.9 6.5 6.3 6.6 5.9 6.  6.1 6.7 6.2 5.9 6.1 6.3 6.1 6.4 6.6 6.8\n",
      " 6.7 6.  6.  6.  6.7 6.3 6.1 6.2 6.3 7.1 6.3 6.5 7.6 7.3 6.7 7.2 6.5 6.4\n",
      " 6.8 6.4 6.5 7.7 7.7 6.  6.9 7.7 6.3 6.7 7.2 6.2 6.1 6.4 7.2 7.4 7.9 6.4\n",
      " 6.3 6.1 7.7 6.3 6.4 6.  6.9 6.7 6.9 6.8 6.7 6.7 6.3 6.5 6.2 5.9]\n",
      "\n",
      "The 2nd cluster is : \n",
      " [5.1 4.9 4.7 4.6 5.  5.4 4.6 5.  4.4 4.9 5.4 4.8 4.8 4.3 5.8 5.7 5.4 5.1\n",
      " 5.7 5.1 5.4 5.1 4.6 5.1 4.8 5.  5.  5.2 5.2 4.7 4.8 5.4 5.2 5.5 4.9 5.\n",
      " 5.5 4.9 4.4 5.1 5.  4.5 4.4 5.  5.1 4.8 5.1 4.6 5.3 5.  5.5 5.7 4.9 5.2\n",
      " 5.  5.6 5.6 5.8 5.6 5.7 5.5 5.5 5.8 5.4 5.6 5.5 5.5 5.8 5.  5.6 5.7 5.7\n",
      " 5.1 5.7 5.8 4.9 5.7 5.8 5.6 5.8 4.4 4.1 4.2]\n",
      "\n",
      "The 3rd cluster is : \n",
      " [3.5 3.  3.2 3.1 3.6 3.9 3.4 3.4 2.9 3.1 3.7 3.4 3.  3.  4.  3.9 3.5 3.8\n",
      " 3.8 3.4 3.7 3.6 3.3 3.4 3.  3.4 3.5 3.4 3.2 3.1 3.4 3.1 3.2 3.5 3.1 3.\n",
      " 3.4 3.5 2.3 3.2 3.5 3.8 3.  3.8 3.2 3.7 3.3 3.2 3.2 3.1 2.3 2.8 2.8 3.3\n",
      " 2.4 2.9 2.7 2.  3.  2.2 2.9 2.9 3.1 3.  2.7 2.2 2.5 3.2 2.8 2.5 2.8 2.9\n",
      " 3.  2.8 3.  2.9 2.6 2.4 2.4 2.7 2.7 3.  3.4 3.1 2.3 3.  2.5 2.6 3.  2.6\n",
      " 2.3 2.7 3.  2.9 2.9 2.5 2.8 3.3 2.7 3.  2.9 3.  3.  2.5 2.9 2.5 3.6 3.2\n",
      " 2.7 3.  2.5 2.8 3.2 3.  3.8 2.6 2.2 3.2 2.8 2.8 2.7 3.3 3.2 2.8 3.  2.8\n",
      " 3.  2.8 3.8 2.8 2.8 2.6 3.  3.4 3.1 3.  3.1 3.1 3.1 2.7 3.2 3.3 3.  2.5\n",
      " 3.  3.4 3. ]\n"
     ]
    }
   ],
   "source": [
    "print(\"The 1st cluster is : \\n\",newupCluster1_6)\n",
    "print()\n",
    "print(\"The 2nd cluster is : \\n\",newupCluster2_6)\n",
    "print()\n",
    "print(\"The 3rd cluster is : \\n\",newupCluster3_6)"
   ]
  },
  {
   "cell_type": "code",
   "execution_count": 28,
   "metadata": {},
   "outputs": [
    {
     "ename": "IndexError",
     "evalue": "index 70 is out of bounds for axis 0 with size 70",
     "output_type": "error",
     "traceback": [
      "\u001b[1;31m---------------------------------------------------------------------------\u001b[0m",
      "\u001b[1;31mIndexError\u001b[0m                                Traceback (most recent call last)",
      "\u001b[1;32m<ipython-input-28-cbf9afff05c5>\u001b[0m in \u001b[0;36m<module>\u001b[1;34m\u001b[0m\n\u001b[0;32m      4\u001b[0m \u001b[0mc2\u001b[0m \u001b[1;33m=\u001b[0m \u001b[1;36m2\u001b[0m\u001b[1;33m\u001b[0m\u001b[1;33m\u001b[0m\u001b[0m\n\u001b[0;32m      5\u001b[0m \u001b[1;32mfor\u001b[0m \u001b[0mi\u001b[0m \u001b[1;32min\u001b[0m \u001b[0mrange\u001b[0m\u001b[1;33m(\u001b[0m\u001b[0mlen\u001b[0m\u001b[1;33m(\u001b[0m\u001b[0mX\u001b[0m\u001b[1;33m)\u001b[0m\u001b[1;33m)\u001b[0m\u001b[1;33m:\u001b[0m\u001b[1;33m\u001b[0m\u001b[1;33m\u001b[0m\u001b[0m\n\u001b[1;32m----> 6\u001b[1;33m     \u001b[1;32mif\u001b[0m \u001b[0mX\u001b[0m\u001b[1;33m[\u001b[0m\u001b[0mi\u001b[0m\u001b[1;33m]\u001b[0m\u001b[1;33m==\u001b[0m \u001b[0mnewupCluster1_6\u001b[0m\u001b[1;33m[\u001b[0m\u001b[0mi\u001b[0m\u001b[1;33m]\u001b[0m\u001b[1;33m:\u001b[0m\u001b[1;33m\u001b[0m\u001b[1;33m\u001b[0m\u001b[0m\n\u001b[0m\u001b[0;32m      7\u001b[0m         \u001b[0mX_clusters\u001b[0m \u001b[1;33m=\u001b[0m \u001b[0mnp\u001b[0m\u001b[1;33m.\u001b[0m\u001b[0mappend\u001b[0m\u001b[1;33m(\u001b[0m\u001b[0mX_clusters\u001b[0m\u001b[1;33m,\u001b[0m \u001b[0mc0\u001b[0m\u001b[1;33m)\u001b[0m\u001b[1;33m\u001b[0m\u001b[1;33m\u001b[0m\u001b[0m\n\u001b[0;32m      8\u001b[0m     \u001b[1;32melif\u001b[0m \u001b[0mX\u001b[0m\u001b[1;33m[\u001b[0m\u001b[0mi\u001b[0m\u001b[1;33m]\u001b[0m \u001b[1;33m==\u001b[0m \u001b[0mnewupCluster2_6\u001b[0m\u001b[1;33m[\u001b[0m\u001b[0mi\u001b[0m\u001b[1;33m]\u001b[0m\u001b[1;33m:\u001b[0m\u001b[1;33m\u001b[0m\u001b[1;33m\u001b[0m\u001b[0m\n",
      "\u001b[1;31mIndexError\u001b[0m: index 70 is out of bounds for axis 0 with size 70"
     ]
    }
   ],
   "source": [
    "X_clusters = []\n",
    "c0 = 0\n",
    "c1 = 1\n",
    "c2 = 2\n",
    "for i in range(len(X)):\n",
    "    if X[i]== newupCluster1_6[i]:\n",
    "        X_clusters = np.append(X_clusters, c0)\n",
    "    elif X[i] == newupCluster2_6[i]:\n",
    "        X_clusters = np.append(X_clusters, c1)\n",
    "    else :\n",
    "        X_clusters = np.append(X_clusters, c2)"
   ]
  },
  {
   "cell_type": "code",
   "execution_count": 23,
   "metadata": {},
   "outputs": [
    {
     "data": {
      "image/png": "[encoded data removed]",
      "text/plain": [
       "<Figure size 504x360 with 1 Axes>"
      ]
     },
     "metadata": {
      "needs_background": "light"
     },
     "output_type": "display_data"
    }
   ],
   "source": [
    "# so lets visualise them properly \n",
    "plt.rcParams.update({'figure.figsize':(7,5)})\n",
    "plt.scatter(newupCluster1_6,newupCluster1_6, label = 'Iris-setosa')\n",
    "plt.scatter(newupCluster2_6,newupCluster2_6, label = 'Iris-versicolor')\n",
    "plt.scatter(newupCluster3_6,newupCluster3_6, label = 'Iris-virginica')\n",
    "plt.scatter(up_mean1_6,up_mean1_6, label = 'mean point', c ='red', marker = 'D')\n",
    "plt.scatter(up_mean2_6,up_mean2_6, c ='red', marker = 'D')\n",
    "plt.scatter(up_mean3_6,up_mean3_6, c ='red', marker = 'D')\n",
    "plt.legend()\n",
    "plt.show()"
   ]
  },
  {
   "cell_type": "code",
   "execution_count": null,
   "metadata": {},
   "outputs": [],
   "source": [
    ")"
   ]
  }
 ],
 "metadata": {
  "kernelspec": {
   "display_name": "Python 3",
   "language": "python",
   "name": "python3"
  },
  "language_info": {
   "codemirror_mode": {
    "name": "ipython",
    "version": 3
   },
   "file_extension": ".py",
   "mimetype": "text/x-python",
   "name": "python",
   "nbconvert_exporter": "python",
   "pygments_lexer": "ipython3",
   "version": "3.8.3"
  }
 },
 "nbformat": 4,
 "nbformat_minor": 4
}
