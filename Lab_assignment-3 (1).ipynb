{
 "cells": [
  {
   "cell_type": "markdown",
   "metadata": {},
   "source": [
    "# Write a Python program to count the number of strings where the string length is 2 or more and the first and last character are same from a given list of strings.\n"
   ]
  },
  {
   "cell_type": "code",
   "execution_count": 21,
   "metadata": {},
   "outputs": [
    {
     "name": "stdout",
     "output_type": "stream",
     "text": [
      "['19211', 'mom', 'dad']\n"
     ]
    },
    {
     "data": {
      "text/plain": [
       "6"
      ]
     },
     "execution_count": 21,
     "metadata": {},
     "output_type": "execute_result"
    }
   ],
   "source": [
    "mylst=['19211','mom','sister','dad','brother','uncle']\n",
    "len(mylst)\n",
    "secondary=[]   # empty list to  push elements\n",
    "if (len(mylst[0])>1) and (mylst[0][0]==mylst[0][-1]):\n",
    "    secondary.insert(0,mylst[0])\n",
    "if (len(mylst[1])>1) and (mylst[1][0]==mylst[1][-1]):\n",
    "     secondary.insert(1,mylst[1])\n",
    "if (len(mylst[2])>1) and (mylst[2][0]==mylst[2][-1]):\n",
    "     secondary.insert(2,mylst[2])\n",
    "if (len(mylst[3])>1) and (mylst[3][0]==mylst[3][-1]):\n",
    "     secondary.insert(3,mylst[3])\n",
    "if (len(mylst[4])>1) and (mylst[4][0]==mylst[4][-1]):\n",
    "     secondary.insert(4,mylst[4])\n",
    "if (len(mylst[5])>1) and (mylst[5][0]==mylst[5][-1]):\n",
    "     secondary.insert(5,mylst[5])\n",
    "print(secondary)\n",
    "len(mylst)"
   ]
  },
  {
   "cell_type": "code",
   "execution_count": null,
   "metadata": {},
   "outputs": [],
   "source": []
  }
 ],
 "metadata": {
  "kernelspec": {
   "display_name": "Python 3",
   "language": "python",
   "name": "python3"
  },
  "language_info": {
   "codemirror_mode": {
    "name": "ipython",
    "version": 3
   },
   "file_extension": ".py",
   "mimetype": "text/x-python",
   "name": "python",
   "nbconvert_exporter": "python",
   "pygments_lexer": "ipython3",
   "version": "3.8.3"
  }
 },
 "nbformat": 4,
 "nbformat_minor": 4
}
